{
 "cells": [
  {
   "cell_type": "code",
   "execution_count": 265,
   "metadata": {
    "collapsed": true
   },
   "outputs": [],
   "source": [
    "import pandas as pd"
   ]
  },
  {
   "cell_type": "code",
   "execution_count": 266,
   "outputs": [],
   "source": [
    "df = pd.read_csv('data.csv')\n"
   ],
   "metadata": {
    "collapsed": false,
    "pycharm": {
     "name": "#%%\n"
    }
   }
  },
  {
   "cell_type": "code",
   "execution_count": 267,
   "outputs": [],
   "source": [
    "df = df.drop(['date','waterfront','view','street','statezip','country','yr_renovated',],axis='columns')"
   ],
   "metadata": {
    "collapsed": false,
    "pycharm": {
     "name": "#%%\n"
    }
   }
  },
  {
   "cell_type": "code",
   "execution_count": 268,
   "outputs": [
    {
     "data": {
      "text/plain": "'digunakan untuk menghapus space tiap kata\\ndf = df.location.applu(labda x : x.strip())'"
     },
     "execution_count": 268,
     "metadata": {},
     "output_type": "execute_result"
    }
   ],
   "source": [
    "\"\"\"contoh fungsi jika square fot 1666 - 2567\"\"\"\n",
    "\"\"\"def convert(x):\n",
    "    tokens = x.split('-')\n",
    "    iflen(tokens) ==2 :\n",
    "        return (float(tokens[0) + float(tokens[1])) /2\n",
    "    try\n",
    "        return float(x)\n",
    "    except:\n",
    "        return none\"\"\"\n",
    "\"\"\"digunakan untuk menghapus space tiap kata\n",
    "df = df.location.applu(labda x : x.strip())\"\"\""
   ],
   "metadata": {
    "collapsed": false,
    "pycharm": {
     "name": "#%%\n"
    }
   }
  },
  {
   "cell_type": "code",
   "execution_count": 269,
   "outputs": [],
   "source": [
    "df.city = df.city.apply(lambda x: x.replace(\" \",\"\"))\n",
    "df.city = df.city.apply(lambda x: x.replace(\"-\",\"\"))"
   ],
   "metadata": {
    "collapsed": false,
    "pycharm": {
     "name": "#%%\n"
    }
   }
  },
  {
   "cell_type": "code",
   "execution_count": 270,
   "outputs": [],
   "source": [
    "city = df.groupby('city')['city'].agg('count').sort_values(ascending=False)"
   ],
   "metadata": {
    "collapsed": false,
    "pycharm": {
     "name": "#%%\n"
    }
   }
  },
  {
   "cell_type": "code",
   "execution_count": 271,
   "outputs": [
    {
     "data": {
      "text/plain": "\"tonton codebasic feature enggeiner\\n\\nlen(city[city <= 10])\\nlessthan10 = city[city <= 10]\\ndf.city = df.city.apply(lambda x: 'other' if x in lessthan10 else x) \""
     },
     "execution_count": 271,
     "metadata": {},
     "output_type": "execute_result"
    }
   ],
   "source": [
    "\"\"\"tonton codebasic feature enggeiner\n",
    "\n",
    "len(city[city <= 10])\n",
    "lessthan10 = city[city <= 10]\n",
    "df.city = df.city.apply(lambda x: 'other' if x in lessthan10 else x) \"\"\""
   ],
   "metadata": {
    "collapsed": false,
    "pycharm": {
     "name": "#%%\n"
    }
   }
  },
  {
   "cell_type": "code",
   "execution_count": 272,
   "outputs": [
    {
     "data": {
      "text/plain": "44"
     },
     "execution_count": 272,
     "metadata": {},
     "output_type": "execute_result"
    }
   ],
   "source": [
    "len(df.city.unique())"
   ],
   "metadata": {
    "collapsed": false,
    "pycharm": {
     "name": "#%%\n"
    }
   }
  },
  {
   "cell_type": "code",
   "execution_count": 273,
   "outputs": [],
   "source": [
    "bathmore5 = df.loc[df['bathrooms'] >= 5 ]"
   ],
   "metadata": {
    "collapsed": false,
    "pycharm": {
     "name": "#%%\n"
    }
   }
  },
  {
   "cell_type": "code",
   "execution_count": 274,
   "outputs": [],
   "source": [
    "import numpy as np\n",
    "df.bathrooms = np.round(df.bathrooms, decimals=0)\n"
   ],
   "metadata": {
    "collapsed": false,
    "pycharm": {
     "name": "#%%\n"
    }
   }
  },
  {
   "cell_type": "code",
   "execution_count": 275,
   "outputs": [
    {
     "data": {
      "text/plain": "(4600, 12)"
     },
     "execution_count": 275,
     "metadata": {},
     "output_type": "execute_result"
    }
   ],
   "source": [
    "df['bhk'] = df.bedrooms + df.bathrooms\n",
    "df.shape"
   ],
   "metadata": {
    "collapsed": false,
    "pycharm": {
     "name": "#%%\n"
    }
   }
  },
  {
   "cell_type": "code",
   "execution_count": 276,
   "outputs": [
    {
     "data": {
      "text/plain": "(2891, 12)"
     },
     "execution_count": 276,
     "metadata": {},
     "output_type": "execute_result"
    }
   ],
   "source": [
    "df2 = df[(df.sqft_living/df.bhk < 400)]\n",
    "df2.shape"
   ],
   "metadata": {
    "collapsed": false,
    "pycharm": {
     "name": "#%%\n"
    }
   }
  },
  {
   "cell_type": "code",
   "execution_count": 277,
   "outputs": [
    {
     "data": {
      "text/plain": "count    2.891000e+03\nmean     4.349711e+05\nstd      5.298879e+05\nmin      0.000000e+00\n25%      2.850000e+05\n50%      3.949500e+05\n75%      5.250000e+05\nmax      2.659000e+07\nName: price, dtype: float64"
     },
     "execution_count": 277,
     "metadata": {},
     "output_type": "execute_result"
    }
   ],
   "source": [
    "df2.price.describe()"
   ],
   "metadata": {
    "collapsed": false,
    "pycharm": {
     "name": "#%%\n"
    }
   }
  },
  {
   "cell_type": "code",
   "execution_count": 278,
   "outputs": [
    {
     "data": {
      "text/plain": "(2265, 12)"
     },
     "execution_count": 278,
     "metadata": {},
     "output_type": "execute_result"
    }
   ],
   "source": [
    "def remove_outlier(df):\n",
    "    df_out = pd.DataFrame()\n",
    "    for key,subdf in df.groupby('city'):\n",
    "        m = np.mean(subdf.price)\n",
    "        st = np.std(subdf.price)\n",
    "        reduced_df = subdf[(subdf.price>(m-st)) & (subdf.price <= (m+st))]\n",
    "        df_out = pd.concat([df_out,reduced_df],ignore_index=True)\n",
    "    return df_out\n",
    "df3 = remove_outlier(df2)\n",
    "df3.shape\n"
   ],
   "metadata": {
    "collapsed": false,
    "pycharm": {
     "name": "#%%\n"
    }
   }
  },
  {
   "cell_type": "code",
   "execution_count": 279,
   "outputs": [
    {
     "data": {
      "text/plain": "<Figure size 1080x720 with 1 Axes>",
      "image/png": "[encoded data removed]"
     },
     "metadata": {
      "needs_background": "light"
     },
     "output_type": "display_data"
    }
   ],
   "source": [
    "import matplotlib.pyplot as plt\n",
    "def plot_scatter(df,city):\n",
    "    bhk2 = df[(df.city == city) & (df.bhk == 2)]\n",
    "    bhk3 = df[(df.city == city) & (df.bhk == 3)]\n",
    "    plt.rcParams['figure.figsize'] = (15,10)\n",
    "    plt.scatter(bhk2.sqft_lot,bhk2.price,color='red',label=\"2 BHK\",s=100)\n",
    "    plt.scatter(bhk3.sqft_lot,bhk3.price,color='blue',label=\"3 BHK\",marker='+',s=100)\n",
    "    plt.xlabel(\"Total Sqare living\")\n",
    "    plt.ylabel(\"Price\")\n",
    "    plt.legend()\n",
    "plot_scatter(df3,\"Kent\")"
   ],
   "metadata": {
    "collapsed": false,
    "pycharm": {
     "name": "#%%\n"
    }
   }
  },
  {
   "cell_type": "code",
   "execution_count": 280,
   "outputs": [
    {
     "data": {
      "text/plain": "Text(0, 0.5, 'count')"
     },
     "execution_count": 280,
     "metadata": {},
     "output_type": "execute_result"
    },
    {
     "data": {
      "text/plain": "<Figure size 1080x720 with 1 Axes>",
      "image/png": "[encoded data removed]"
     },
     "metadata": {
      "needs_background": "light"
     },
     "output_type": "display_data"
    }
   ],
   "source": [
    "bedroms = df3.groupby('bedrooms')['bedrooms'].agg('count')\n",
    "bedromsname = bedroms.index\n",
    "plt.bar(bedromsname,bedroms)\n",
    "plt.xlabel(\"Bedrooms\")\n",
    "plt.ylabel(\"count\")"
   ],
   "metadata": {
    "collapsed": false,
    "pycharm": {
     "name": "#%%\n"
    }
   }
  },
  {
   "cell_type": "code",
   "execution_count": 281,
   "outputs": [
    {
     "data": {
      "text/plain": "   Algona  Auburn  Bellevue  BlackDiamond  Bothell  Burien  Carnation  \\\n0       1       0         0             0        0       0          0   \n1       1       0         0             0        0       0          0   \n2       1       0         0             0        0       0          0   \n\n   Covington  DesMoines  Duvall  ...  Renton  Sammamish  SeaTac  Seattle  \\\n0          0          0       0  ...       0          0       0        0   \n1          0          0       0  ...       0          0       0        0   \n2          0          0       0  ...       0          0       0        0   \n\n   Shoreline  Skykomish  Snoqualmie  Tukwila  Vashon  Woodinville  \n0          0          0           0        0       0            0  \n1          0          0           0        0       0            0  \n2          0          0           0        0       0            0  \n\n[3 rows x 36 columns]",
      "text/html": "<div>\n<style scoped>\n    .dataframe tbody tr th:only-of-type {\n        vertical-align: middle;\n    }\n\n    .dataframe tbody tr th {\n        vertical-align: top;\n    }\n\n    .dataframe thead th {\n        text-align: right;\n    }\n</style>\n<table border=\"1\" class=\"dataframe\">\n  <thead>\n    <tr style=\"text-align: right;\">\n      <th></th>\n      <th>Algona</th>\n      <th>Auburn</th>\n      <th>Bellevue</th>\n      <th>BlackDiamond</th>\n      <th>Bothell</th>\n      <th>Burien</th>\n      <th>Carnation</th>\n      <th>Covington</th>\n      <th>DesMoines</th>\n      <th>Duvall</th>\n      <th>...</th>\n      <th>Renton</th>\n      <th>Sammamish</th>\n      <th>SeaTac</th>\n      <th>Seattle</th>\n      <th>Shoreline</th>\n      <th>Skykomish</th>\n      <th>Snoqualmie</th>\n      <th>Tukwila</th>\n      <th>Vashon</th>\n      <th>Woodinville</th>\n    </tr>\n  </thead>\n  <tbody>\n    <tr>\n      <th>0</th>\n      <td>1</td>\n      <td>0</td>\n      <td>0</td>\n      <td>0</td>\n      <td>0</td>\n      <td>0</td>\n      <td>0</td>\n      <td>0</td>\n      <td>0</td>\n      <td>0</td>\n      <td>...</td>\n      <td>0</td>\n      <td>0</td>\n      <td>0</td>\n      <td>0</td>\n      <td>0</td>\n      <td>0</td>\n      <td>0</td>\n      <td>0</td>\n      <td>0</td>\n      <td>0</td>\n    </tr>\n    <tr>\n      <th>1</th>\n      <td>1</td>\n      <td>0</td>\n      <td>0</td>\n      <td>0</td>\n      <td>0</td>\n      <td>0</td>\n      <td>0</td>\n      <td>0</td>\n      <td>0</td>\n      <td>0</td>\n      <td>...</td>\n      <td>0</td>\n      <td>0</td>\n      <td>0</td>\n      <td>0</td>\n      <td>0</td>\n      <td>0</td>\n      <td>0</td>\n      <td>0</td>\n      <td>0</td>\n      <td>0</td>\n    </tr>\n    <tr>\n      <th>2</th>\n      <td>1</td>\n      <td>0</td>\n      <td>0</td>\n      <td>0</td>\n      <td>0</td>\n      <td>0</td>\n      <td>0</td>\n      <td>0</td>\n      <td>0</td>\n      <td>0</td>\n      <td>...</td>\n      <td>0</td>\n      <td>0</td>\n      <td>0</td>\n      <td>0</td>\n      <td>0</td>\n      <td>0</td>\n      <td>0</td>\n      <td>0</td>\n      <td>0</td>\n      <td>0</td>\n    </tr>\n  </tbody>\n</table>\n<p>3 rows × 36 columns</p>\n</div>"
     },
     "execution_count": 281,
     "metadata": {},
     "output_type": "execute_result"
    }
   ],
   "source": [
    "dummies = pd.get_dummies(df3.city)\n",
    "dummies.head(3)"
   ],
   "metadata": {
    "collapsed": false,
    "pycharm": {
     "name": "#%%\n"
    }
   }
  },
  {
   "cell_type": "code",
   "execution_count": 282,
   "outputs": [],
   "source": [
    "dummies = dummies.drop(['Woodinville'],axis='columns')"
   ],
   "metadata": {
    "collapsed": false,
    "pycharm": {
     "name": "#%%\n"
    }
   }
  },
  {
   "cell_type": "code",
   "execution_count": 283,
   "outputs": [],
   "source": [
    "df4 = pd.concat([df3,dummies],axis='columns')"
   ],
   "metadata": {
    "collapsed": false,
    "pycharm": {
     "name": "#%%\n"
    }
   }
  },
  {
   "cell_type": "code",
   "execution_count": 284,
   "outputs": [
    {
     "data": {
      "text/plain": "      price  bedrooms  bathrooms  sqft_living  floors  condition  Algona  \\\n0  262000.0       4.0        2.0         2020     2.0          3       1   \n1  230000.0       3.0        1.0         1390     1.0          4       1   \n2  248000.0       4.0        3.0         2163     2.0          3       1   \n3  196440.0       3.0        2.0         1560     1.0          3       1   \n4  245000.0       3.0        2.0         1920     1.0          3       0   \n\n   Auburn  Bellevue  BlackDiamond  ...  Redmond  Renton  Sammamish  SeaTac  \\\n0       0         0             0  ...        0       0          0       0   \n1       0         0             0  ...        0       0          0       0   \n2       0         0             0  ...        0       0          0       0   \n3       0         0             0  ...        0       0          0       0   \n4       1         0             0  ...        0       0          0       0   \n\n   Seattle  Shoreline  Skykomish  Snoqualmie  Tukwila  Vashon  \n0        0          0          0           0        0       0  \n1        0          0          0           0        0       0  \n2        0          0          0           0        0       0  \n3        0          0          0           0        0       0  \n4        0          0          0           0        0       0  \n\n[5 rows x 41 columns]",
      "text/html": "<div>\n<style scoped>\n    .dataframe tbody tr th:only-of-type {\n        vertical-align: middle;\n    }\n\n    .dataframe tbody tr th {\n        vertical-align: top;\n    }\n\n    .dataframe thead th {\n        text-align: right;\n    }\n</style>\n<table border=\"1\" class=\"dataframe\">\n  <thead>\n    <tr style=\"text-align: right;\">\n      <th></th>\n      <th>price</th>\n      <th>bedrooms</th>\n      <th>bathrooms</th>\n      <th>sqft_living</th>\n      <th>floors</th>\n      <th>condition</th>\n      <th>Algona</th>\n      <th>Auburn</th>\n      <th>Bellevue</th>\n      <th>BlackDiamond</th>\n      <th>...</th>\n      <th>Redmond</th>\n      <th>Renton</th>\n      <th>Sammamish</th>\n      <th>SeaTac</th>\n      <th>Seattle</th>\n      <th>Shoreline</th>\n      <th>Skykomish</th>\n      <th>Snoqualmie</th>\n      <th>Tukwila</th>\n      <th>Vashon</th>\n    </tr>\n  </thead>\n  <tbody>\n    <tr>\n      <th>0</th>\n      <td>262000.0</td>\n      <td>4.0</td>\n      <td>2.0</td>\n      <td>2020</td>\n      <td>2.0</td>\n      <td>3</td>\n      <td>1</td>\n      <td>0</td>\n      <td>0</td>\n      <td>0</td>\n      <td>...</td>\n      <td>0</td>\n      <td>0</td>\n      <td>0</td>\n      <td>0</td>\n      <td>0</td>\n      <td>0</td>\n      <td>0</td>\n      <td>0</td>\n      <td>0</td>\n      <td>0</td>\n    </tr>\n    <tr>\n      <th>1</th>\n      <td>230000.0</td>\n      <td>3.0</td>\n      <td>1.0</td>\n      <td>1390</td>\n      <td>1.0</td>\n      <td>4</td>\n      <td>1</td>\n      <td>0</td>\n      <td>0</td>\n      <td>0</td>\n      <td>...</td>\n      <td>0</td>\n      <td>0</td>\n      <td>0</td>\n      <td>0</td>\n      <td>0</td>\n      <td>0</td>\n      <td>0</td>\n      <td>0</td>\n      <td>0</td>\n      <td>0</td>\n    </tr>\n    <tr>\n      <th>2</th>\n      <td>248000.0</td>\n      <td>4.0</td>\n      <td>3.0</td>\n      <td>2163</td>\n      <td>2.0</td>\n      <td>3</td>\n      <td>1</td>\n      <td>0</td>\n      <td>0</td>\n      <td>0</td>\n      <td>...</td>\n      <td>0</td>\n      <td>0</td>\n      <td>0</td>\n      <td>0</td>\n      <td>0</td>\n      <td>0</td>\n      <td>0</td>\n      <td>0</td>\n      <td>0</td>\n      <td>0</td>\n    </tr>\n    <tr>\n      <th>3</th>\n      <td>196440.0</td>\n      <td>3.0</td>\n      <td>2.0</td>\n      <td>1560</td>\n      <td>1.0</td>\n      <td>3</td>\n      <td>1</td>\n      <td>0</td>\n      <td>0</td>\n      <td>0</td>\n      <td>...</td>\n      <td>0</td>\n      <td>0</td>\n      <td>0</td>\n      <td>0</td>\n      <td>0</td>\n      <td>0</td>\n      <td>0</td>\n      <td>0</td>\n      <td>0</td>\n      <td>0</td>\n    </tr>\n    <tr>\n      <th>4</th>\n      <td>245000.0</td>\n      <td>3.0</td>\n      <td>2.0</td>\n      <td>1920</td>\n      <td>1.0</td>\n      <td>3</td>\n      <td>0</td>\n      <td>1</td>\n      <td>0</td>\n      <td>0</td>\n      <td>...</td>\n      <td>0</td>\n      <td>0</td>\n      <td>0</td>\n      <td>0</td>\n      <td>0</td>\n      <td>0</td>\n      <td>0</td>\n      <td>0</td>\n      <td>0</td>\n      <td>0</td>\n    </tr>\n  </tbody>\n</table>\n<p>5 rows × 41 columns</p>\n</div>"
     },
     "execution_count": 284,
     "metadata": {},
     "output_type": "execute_result"
    }
   ],
   "source": [
    "df4 = df4.drop(['city','sqft_lot','sqft_above','sqft_basement','yr_built','bhk'],axis='columns')\n",
    "df4.head()"
   ],
   "metadata": {
    "collapsed": false,
    "pycharm": {
     "name": "#%%\n"
    }
   }
  },
  {
   "cell_type": "code",
   "execution_count": 285,
   "outputs": [],
   "source": [
    "X = df4.drop('price',axis='columns')\n"
   ],
   "metadata": {
    "collapsed": false,
    "pycharm": {
     "name": "#%%\n"
    }
   }
  },
  {
   "cell_type": "code",
   "execution_count": 286,
   "outputs": [],
   "source": [
    "y = df4.price"
   ],
   "metadata": {
    "collapsed": false,
    "pycharm": {
     "name": "#%%\n"
    }
   }
  },
  {
   "cell_type": "code",
   "execution_count": 287,
   "outputs": [],
   "source": [
    "from sklearn.model_selection import train_test_split\n",
    "X_train, X_test, y_train, y_test = train_test_split(X,y, test_size=0.2, random_state=10)"
   ],
   "metadata": {
    "collapsed": false,
    "pycharm": {
     "name": "#%%\n"
    }
   }
  },
  {
   "cell_type": "code",
   "execution_count": 288,
   "outputs": [
    {
     "data": {
      "text/plain": "0.6607376638959261"
     },
     "execution_count": 288,
     "metadata": {},
     "output_type": "execute_result"
    }
   ],
   "source": [
    "from sklearn.linear_model import LinearRegression\n",
    "lr = LinearRegression()\n",
    "lr.fit(X_train,y_train)\n",
    "lr.score(X_test,y_test)\n",
    "\n"
   ],
   "metadata": {
    "collapsed": false,
    "pycharm": {
     "name": "#%%\n"
    }
   }
  },
  {
   "cell_type": "code",
   "execution_count": 289,
   "outputs": [
    {
     "data": {
      "text/plain": "'from sklearn.preprocessing import StandardScaler\\nss = StandardScaler()\\nX_train_scaled = ss.fit_transform(X_train)\\nX_test_scaled = ss.transform(X_test)\\ny_train_scaled = ss.fit_transform(y_train)\\ny_test_scaled = ss.transform(y_test.values.reshape(-1,1))\\nlr.fit(X_train_scaled,y_train_scaled)\\nlr.score(X_test_scaled,y_test_scaled) '"
     },
     "execution_count": 289,
     "metadata": {},
     "output_type": "execute_result"
    }
   ],
   "source": [
    "\"\"\"from sklearn.preprocessing import StandardScaler\n",
    "ss = StandardScaler()\n",
    "X_train_scaled = ss.fit_transform(X_train)\n",
    "X_test_scaled = ss.transform(X_test)\n",
    "y_train_scaled = ss.fit_transform(y_train)\n",
    "y_test_scaled = ss.transform(y_test.values.reshape(-1,1))\n",
    "lr.fit(X_train_scaled,y_train_scaled)\n",
    "lr.score(X_test_scaled,y_test_scaled) \"\"\""
   ],
   "metadata": {
    "collapsed": false,
    "pycharm": {
     "name": "#%%\n"
    }
   }
  },
  {
   "cell_type": "code",
   "execution_count": 290,
   "outputs": [
    {
     "data": {
      "text/plain": "array([0.656675  , 0.65913668, 0.67913683, 0.67608681, 0.66634829])"
     },
     "execution_count": 290,
     "metadata": {},
     "output_type": "execute_result"
    }
   ],
   "source": [
    "from sklearn.ensemble import RandomForestRegressor\n",
    "rfr = RandomForestRegressor()\n",
    "from sklearn.model_selection import ShuffleSplit\n",
    "from sklearn.model_selection import cross_val_score\n",
    "cv = ShuffleSplit(n_splits=5,test_size=0.3,random_state=0)\n",
    "cross_val_score(LinearRegression(),X,y,cv=cv)"
   ],
   "metadata": {
    "collapsed": false,
    "pycharm": {
     "name": "#%%\n"
    }
   }
  },
  {
   "cell_type": "code",
   "execution_count": 291,
   "outputs": [],
   "source": [
    "from sklearn.linear_model import Lasso\n",
    "from sklearn.tree import DecisionTreeRegressor\n",
    "\n",
    "\n",
    "algos = {\n",
    "        'linear regression' : {\n",
    "            'model' : LinearRegression(),\n",
    "            'params' : {\n",
    "                    'normalize' : [True,False]\n",
    "            }\n",
    "        },\n",
    "        'lasso' : {\n",
    "            'model' : Lasso(),\n",
    "            'params' : {\n",
    "                'alpha' : [1,2],\n",
    "                'selection' : ['random','cyclic'],\n",
    "                'tol' : [100]\n",
    "            }\n",
    "        },\n",
    "        'decision tree' : {\n",
    "            'model' :  DecisionTreeRegressor(),\n",
    "        'params' : {\n",
    "            'criterion' : ['mse','friedman_mse'],\n",
    "            'splitter' : ['best','random']\n",
    "            }\n",
    "        }\n",
    "    }"
   ],
   "metadata": {
    "collapsed": false,
    "pycharm": {
     "name": "#%%\n"
    }
   }
  },
  {
   "cell_type": "code",
   "source": [
    "from sklearn.model_selection import GridSearchCV\n",
    "cv = ShuffleSplit(n_splits=5,test_size=0.3,random_state=0)\n",
    "score = []\n",
    "\n",
    "for algo_name,config in algos.items():\n",
    "    clf = GridSearchCV(config['model'],config['params'],cv = cv,\n",
    "                       return_train_score=False)\n",
    "    clf.fit(X,y)\n",
    "    score.append({\n",
    "        'model' : algo_name,\n",
    "        'best_score' : clf.best_score_,\n",
    "        'best_params' : clf.best_params_\n",
    "    })\n"
   ],
   "metadata": {
    "collapsed": false,
    "pycharm": {
     "name": "#%%\n"
    }
   },
   "execution_count": 292,
   "outputs": []
  },
  {
   "cell_type": "code",
   "execution_count": 293,
   "outputs": [
    {
     "data": {
      "text/plain": "               model  best_score  \\\n0  linear regression    0.667477   \n1              lasso    0.619540   \n2      decision tree    0.403428   \n\n                                         best_params  \n0                               {'normalize': False}  \n1    {'alpha': 2, 'selection': 'cyclic', 'tol': 100}  \n2  {'criterion': 'friedman_mse', 'splitter': 'ran...  ",
      "text/html": "<div>\n<style scoped>\n    .dataframe tbody tr th:only-of-type {\n        vertical-align: middle;\n    }\n\n    .dataframe tbody tr th {\n        vertical-align: top;\n    }\n\n    .dataframe thead th {\n        text-align: right;\n    }\n</style>\n<table border=\"1\" class=\"dataframe\">\n  <thead>\n    <tr style=\"text-align: right;\">\n      <th></th>\n      <th>model</th>\n      <th>best_score</th>\n      <th>best_params</th>\n    </tr>\n  </thead>\n  <tbody>\n    <tr>\n      <th>0</th>\n      <td>linear regression</td>\n      <td>0.667477</td>\n      <td>{'normalize': False}</td>\n    </tr>\n    <tr>\n      <th>1</th>\n      <td>lasso</td>\n      <td>0.619540</td>\n      <td>{'alpha': 2, 'selection': 'cyclic', 'tol': 100}</td>\n    </tr>\n    <tr>\n      <th>2</th>\n      <td>decision tree</td>\n      <td>0.403428</td>\n      <td>{'criterion': 'friedman_mse', 'splitter': 'ran...</td>\n    </tr>\n  </tbody>\n</table>\n</div>"
     },
     "execution_count": 293,
     "metadata": {},
     "output_type": "execute_result"
    }
   ],
   "source": [
    "data = pd.DataFrame(score,columns=['model','best_score','best_params'])\n",
    "data\n"
   ],
   "metadata": {
    "collapsed": false,
    "pycharm": {
     "name": "#%%\n"
    }
   }
  },
  {
   "cell_type": "code",
   "execution_count": 294,
   "outputs": [],
   "source": [
    "def predict(location,bedrooms,bathrooms,sqft,floors,condition):\n",
    "    loc_index = np.where(X.columns == location)[0][0]\n",
    "    x = np.zeros(len(X.columns))\n",
    "    x[0] = bedrooms\n",
    "    x[1] = bathrooms\n",
    "    x[2] = sqft\n",
    "    x[3] = floors\n",
    "    x[4] = condition\n",
    "    if loc_index >= 0:\n",
    "        x[loc_index] = 1\n",
    "\n",
    "    return lr.predict([x])[0]"
   ],
   "metadata": {
    "collapsed": false,
    "pycharm": {
     "name": "#%%\n"
    }
   }
  },
  {
   "cell_type": "code",
   "execution_count": 295,
   "outputs": [
    {
     "data": {
      "text/plain": "Index(['bedrooms', 'bathrooms', 'sqft_living', 'floors', 'condition', 'Algona',\n       'Auburn', 'Bellevue', 'BlackDiamond', 'Bothell', 'Burien', 'Carnation',\n       'Covington', 'DesMoines', 'Duvall', 'Enumclaw', 'FallCity',\n       'FederalWay', 'Issaquah', 'Kenmore', 'Kent', 'Kirkland',\n       'LakeForestPark', 'MapleValley', 'MercerIsland', 'Milton', 'Newcastle',\n       'NormandyPark', 'NorthBend', 'Pacific', 'Redmond', 'Renton',\n       'Sammamish', 'SeaTac', 'Seattle', 'Shoreline', 'Skykomish',\n       'Snoqualmie', 'Tukwila', 'Vashon'],\n      dtype='object')"
     },
     "execution_count": 295,
     "metadata": {},
     "output_type": "execute_result"
    }
   ],
   "source": [
    "X.columns"
   ],
   "metadata": {
    "collapsed": false,
    "pycharm": {
     "name": "#%%\n"
    }
   }
  },
  {
   "cell_type": "code",
   "execution_count": 296,
   "outputs": [
    {
     "data": {
      "text/plain": "33"
     },
     "execution_count": 296,
     "metadata": {},
     "output_type": "execute_result"
    }
   ],
   "source": [
    "np.where(X.columns == 'SeaTac')[0][0]"
   ],
   "metadata": {
    "collapsed": false,
    "pycharm": {
     "name": "#%%\n"
    }
   }
  },
  {
   "cell_type": "code",
   "execution_count": 301,
   "outputs": [
    {
     "data": {
      "text/plain": "433703.4152473364"
     },
     "execution_count": 301,
     "metadata": {},
     "output_type": "execute_result"
    }
   ],
   "source": [
    "predict('NorthBend',2,2,2000,2,4)"
   ],
   "metadata": {
    "collapsed": false,
    "pycharm": {
     "name": "#%%\n"
    }
   }
  },
  {
   "cell_type": "code",
   "execution_count": 302,
   "outputs": [
    {
     "data": {
      "text/plain": "444391.9293102795"
     },
     "execution_count": 302,
     "metadata": {},
     "output_type": "execute_result"
    }
   ],
   "source": [
    "predict('NorthBend',1,1,2000,2,4)"
   ],
   "metadata": {
    "collapsed": false,
    "pycharm": {
     "name": "#%%\n"
    }
   }
  },
  {
   "cell_type": "code",
   "execution_count": 303,
   "outputs": [],
   "source": [
    "import pickle\n",
    "with open('house_model_pickle','wb') as f:\n",
    "    pickle.dump(lr,f)"
   ],
   "metadata": {
    "collapsed": false,
    "pycharm": {
     "name": "#%%\n"
    }
   }
  },
  {
   "cell_type": "code",
   "execution_count": 306,
   "outputs": [],
   "source": [
    "import json\n",
    "columns = {\n",
    "    'data_columns' : [col.lower() for col in X.columns]\n",
    "}\n",
    "with open(\"columns.json\",'w') as f:\n",
    "    f.write(json.dumps(columns))"
   ],
   "metadata": {
    "collapsed": false,
    "pycharm": {
     "name": "#%%\n"
    }
   }
  }
 ],
 "metadata": {
  "kernelspec": {
   "name": "pycharm-c7acb896",
   "language": "python",
   "display_name": "PyCharm (MLPROJECTARCHITECTURE)"
  },
  "language_info": {
   "codemirror_mode": {
    "name": "ipython",
    "version": 2
   },
   "file_extension": ".py",
   "mimetype": "text/x-python",
   "name": "python",
   "nbconvert_exporter": "python",
   "pygments_lexer": "ipython2",
   "version": "2.7.6"
  }
 },
 "nbformat": 4,
 "nbformat_minor": 0
}